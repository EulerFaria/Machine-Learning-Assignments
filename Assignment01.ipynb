{
 "cells": [
  {
   "cell_type": "code",
   "execution_count": 30,
   "metadata": {},
   "outputs": [],
   "source": [
    "%matplotlib inline"
   ]
  },
  {
   "cell_type": "markdown",
   "metadata": {
    "heading_collapsed": true
   },
   "source": [
    "# Importing libraries"
   ]
  },
  {
   "cell_type": "code",
   "execution_count": 31,
   "metadata": {
    "hidden": true
   },
   "outputs": [],
   "source": [
    "import numpy as np\n",
    "import pandas as pd\n",
    "import seaborn as sns\n",
    "import matplotlib.pyplot as plt\n",
    "import copy"
   ]
  },
  {
   "cell_type": "code",
   "execution_count": 32,
   "metadata": {
    "hidden": true
   },
   "outputs": [],
   "source": [
    "from sklearn.model_selection import KFold\n",
    "from sklearn.linear_model import LinearRegression as LR_SK\n",
    "from sklearn.preprocessing import MinMaxScaler,StandardScaler,RobustScaler\n",
    "from sklearn.ensemble import RandomForestRegressor,forest"
   ]
  },
  {
   "cell_type": "markdown",
   "metadata": {
    "hidden": true
   },
   "source": [
    "**Granting replicability**"
   ]
  },
  {
   "cell_type": "code",
   "execution_count": 33,
   "metadata": {
    "hidden": true
   },
   "outputs": [],
   "source": [
    "import random as rn\n",
    "import os\n",
    "\n",
    "os.environ['PYTHONHASHSEED'] = '0'\n",
    "np.random.seed(42)\n",
    "rn.seed(12345)"
   ]
  },
  {
   "cell_type": "code",
   "execution_count": 34,
   "metadata": {
    "hidden": true
   },
   "outputs": [],
   "source": [
    "path = \"/Users/eulerr/Documents/Mestrado Unicamp/Machine Learning/Assignment-01/\""
   ]
  },
  {
   "cell_type": "code",
   "execution_count": 35,
   "metadata": {
    "hidden": true
   },
   "outputs": [
    {
     "name": "stdout",
     "output_type": "stream",
     "text": [
      "/Users/eulerr/Documents/Mestrado Unicamp/Machine Learning/Assignment-01\r\n"
     ]
    }
   ],
   "source": [
    "!pwd"
   ]
  },
  {
   "cell_type": "markdown",
   "metadata": {
    "heading_collapsed": true
   },
   "source": [
    "# Helping Functions"
   ]
  },
  {
   "cell_type": "code",
   "execution_count": 158,
   "metadata": {
    "hidden": true
   },
   "outputs": [],
   "source": [
    "class LinearRegression():\n",
    "    def __init__(self, n_in, n_out):\n",
    "        self.weight = np.random.uniform(-0.1,0.1,(n_out,n_in)) #initializing parameters\n",
    "\n",
    "    def forward(self, x_bias):\n",
    "        return x_bias.dot(self.weight.T)\n",
    "    \n",
    "    def fit(self,xtrain,ytrain,xval,yval,\n",
    "                epochs,learning_rate,\n",
    "                alpha,patience,verbose=0):\n",
    "        \n",
    "        pt = copy.copy(patience)\n",
    "        \n",
    "        hist ={'loss':[],'val_loss':[],'bestloss':1e100,'best_weights':self.weight}\n",
    "\n",
    "        n_samples = xtrain.shape[0]\n",
    "\n",
    "        for epoch in range(epochs):\n",
    "\n",
    "            \n",
    "            # forward - predict\n",
    "            out = self.forward(xtrain)\n",
    "\n",
    "            #loss function \n",
    "            loss = mse(out,ytrain)\n",
    "\n",
    "            # gradient by partial derivatives\n",
    "            weight_grad = (2.0/n_samples) * (xtrain.T).dot(xtrain.dot(self.weight.T) - ytrain) + 2*alpha*self.weight.T\n",
    "\n",
    "\n",
    "            # updating weights by gradient descendent\n",
    "            self.weight = self.weight - learning_rate * weight_grad.T \n",
    "\n",
    "\n",
    "            # Predicting validation set \n",
    "            out_val = self.forward(xval)\n",
    "\n",
    "            #loss on validation set\n",
    "            loss_val = mse(out_val,yval)\n",
    "\n",
    "\n",
    "            # Saving history : \n",
    "            if patience==0: print(f'Patience 0 in epoch {epoch}');break\n",
    "\n",
    "            hist['loss'].append(loss)\n",
    "            hist['val_loss'].append(loss_val)    \n",
    "\n",
    "            if loss_val < hist['bestloss']: \n",
    "                hist['bestloss']= loss_val\n",
    "                hist['best_weights']= self.weight\n",
    "                patience = pt\n",
    "\n",
    "            # EarlyStop\n",
    "\n",
    "            if loss_val >= hist['bestloss']: patience -=1;\n",
    "\n",
    "\n",
    "            # verbose\n",
    "            if verbose>0:\n",
    "                print(f'\\nEpoch[{epoch+1}/{epochs}], loss: {loss}   val_loss: {loss_val}')\n",
    "\n",
    "        return hist\n",
    "\n",
    "\n"
   ]
  },
  {
   "cell_type": "code",
   "execution_count": 37,
   "metadata": {
    "hidden": true
   },
   "outputs": [],
   "source": [
    "def R2_adjusted(y,yhat,p):\n",
    "    \n",
    "    SS_Residual = np.sum(np.square(y-yhat))\n",
    "    SS_Total = np.sum(np.square(y - np.mean(y) ))\n",
    "    r_squared = 1 - (float(SS_Residual))/SS_Total\n",
    "    adjusted_r_squared = 1 - (1-r_squared)*(y.shape[0]-1)/(y.shape[0] - p -1)\n",
    "    return adjusted_r_squared"
   ]
  },
  {
   "cell_type": "code",
   "execution_count": 229,
   "metadata": {
    "hidden": true
   },
   "outputs": [],
   "source": [
    "def cross_validate(nat_weights, x, y,lr=65e-3,l2=1e-5, folds=5):\n",
    "    '''\n",
    "    Function to do the cross validation.\n",
    "    nat_weights = Weights of linear regression as initial state before training.\n",
    "    x = training data, numpy array\n",
    "    y = training labels, numpy array\n",
    "    folds = K, the number of folds to divide the data into\n",
    "    '''\n",
    "    score = np.zeros(folds)\n",
    "    hist = [{}]*folds\n",
    "    kf = KFold(n_splits=folds,random_state=32) \n",
    "    i=0\n",
    "    model = LinearRegression(x.shape[1],1)   \n",
    "    model.weight = nat_weights # Put the weights on a predefined state\n",
    "    \n",
    "    for train_ind,test_ind in kf.split(x):\n",
    "        print(f'Fold {i+1} out of {folds}')\n",
    "        xtrain,ytrain = x[train_ind,:],y[train_ind]\n",
    "        xtest,ytest = x[test_ind,:],y[test_ind]\n",
    "        \n",
    "        model.weight = nat_weights # Put the weights on a predefined state\n",
    "        \n",
    "        hist [i] = model.fit(xtrain,ytrain,xtest,ytest,\n",
    "                             epochs=3000,learning_rate=lr,alpha=l2,\n",
    "                             patience=10,verbose=0)\n",
    "\n",
    "        ypred = model.forward(xtest)\n",
    "        score[i] = mse(ypred,ytest)\n",
    "        i+=1\n",
    "        \n",
    "        \n",
    "    print(f'\\nOverall MSE: {score}')\n",
    "    print(f'Mean:{score.mean()}')\n",
    "    print(f'StD:{score.std()}')\n",
    "    return hist"
   ]
  },
  {
   "cell_type": "code",
   "execution_count": 39,
   "metadata": {
    "hidden": true
   },
   "outputs": [],
   "source": [
    "def mse(x,y):\n",
    "    return np.square(x-y).mean()\n",
    "\n",
    "def rmse(x,y):\n",
    "    return np.sqrt(np.square(x-y).mean())"
   ]
  },
  {
   "cell_type": "markdown",
   "metadata": {
    "heading_collapsed": true
   },
   "source": [
    "# Importing dataset"
   ]
  },
  {
   "cell_type": "code",
   "execution_count": 40,
   "metadata": {
    "hidden": true
   },
   "outputs": [
    {
     "data": {
      "text/html": [
       "<div>\n",
       "<style scoped>\n",
       "    .dataframe tbody tr th:only-of-type {\n",
       "        vertical-align: middle;\n",
       "    }\n",
       "\n",
       "    .dataframe tbody tr th {\n",
       "        vertical-align: top;\n",
       "    }\n",
       "\n",
       "    .dataframe thead th {\n",
       "        text-align: right;\n",
       "    }\n",
       "</style>\n",
       "<table border=\"1\" class=\"dataframe\">\n",
       "  <thead>\n",
       "    <tr style=\"text-align: right;\">\n",
       "      <th></th>\n",
       "      <th>url</th>\n",
       "      <th>timedelta</th>\n",
       "      <th>n_tokens_title</th>\n",
       "      <th>n_tokens_content</th>\n",
       "      <th>n_unique_tokens</th>\n",
       "      <th>n_non_stop_words</th>\n",
       "      <th>n_non_stop_unique_tokens</th>\n",
       "      <th>num_hrefs</th>\n",
       "      <th>num_self_hrefs</th>\n",
       "      <th>num_imgs</th>\n",
       "      <th>...</th>\n",
       "      <th>min_positive_polarity</th>\n",
       "      <th>max_positive_polarity</th>\n",
       "      <th>avg_negative_polarity</th>\n",
       "      <th>min_negative_polarity</th>\n",
       "      <th>max_negative_polarity</th>\n",
       "      <th>title_subjectivity</th>\n",
       "      <th>title_sentiment_polarity</th>\n",
       "      <th>abs_title_subjectivity</th>\n",
       "      <th>abs_title_sentiment_polarity</th>\n",
       "      <th>shares</th>\n",
       "    </tr>\n",
       "  </thead>\n",
       "  <tbody>\n",
       "    <tr>\n",
       "      <th>0</th>\n",
       "      <td>http://mashable.com/2013/04/18/may-fourth-be-w...</td>\n",
       "      <td>630.0</td>\n",
       "      <td>12.0</td>\n",
       "      <td>363.0</td>\n",
       "      <td>0.571823</td>\n",
       "      <td>1.0</td>\n",
       "      <td>0.773585</td>\n",
       "      <td>5.0</td>\n",
       "      <td>3.0</td>\n",
       "      <td>1.0</td>\n",
       "      <td>...</td>\n",
       "      <td>0.033333</td>\n",
       "      <td>1.0</td>\n",
       "      <td>-0.250000</td>\n",
       "      <td>-0.4</td>\n",
       "      <td>-0.15</td>\n",
       "      <td>0.571429</td>\n",
       "      <td>0.357143</td>\n",
       "      <td>0.071429</td>\n",
       "      <td>0.357143</td>\n",
       "      <td>5100</td>\n",
       "    </tr>\n",
       "    <tr>\n",
       "      <th>1</th>\n",
       "      <td>http://mashable.com/2014/05/23/edgar-wright-sh...</td>\n",
       "      <td>230.0</td>\n",
       "      <td>11.0</td>\n",
       "      <td>502.0</td>\n",
       "      <td>0.591919</td>\n",
       "      <td>1.0</td>\n",
       "      <td>0.777778</td>\n",
       "      <td>6.0</td>\n",
       "      <td>1.0</td>\n",
       "      <td>2.0</td>\n",
       "      <td>...</td>\n",
       "      <td>0.100000</td>\n",
       "      <td>0.8</td>\n",
       "      <td>-0.304167</td>\n",
       "      <td>-0.7</td>\n",
       "      <td>-0.05</td>\n",
       "      <td>0.000000</td>\n",
       "      <td>0.000000</td>\n",
       "      <td>0.500000</td>\n",
       "      <td>0.000000</td>\n",
       "      <td>3100</td>\n",
       "    </tr>\n",
       "  </tbody>\n",
       "</table>\n",
       "<p>2 rows × 61 columns</p>\n",
       "</div>"
      ],
      "text/plain": [
       "                                                 url  timedelta  \\\n",
       "0  http://mashable.com/2013/04/18/may-fourth-be-w...      630.0   \n",
       "1  http://mashable.com/2014/05/23/edgar-wright-sh...      230.0   \n",
       "\n",
       "   n_tokens_title  n_tokens_content  n_unique_tokens  n_non_stop_words  \\\n",
       "0            12.0             363.0         0.571823               1.0   \n",
       "1            11.0             502.0         0.591919               1.0   \n",
       "\n",
       "   n_non_stop_unique_tokens  num_hrefs  num_self_hrefs  num_imgs   ...    \\\n",
       "0                  0.773585        5.0             3.0       1.0   ...     \n",
       "1                  0.777778        6.0             1.0       2.0   ...     \n",
       "\n",
       "   min_positive_polarity  max_positive_polarity  avg_negative_polarity  \\\n",
       "0               0.033333                    1.0              -0.250000   \n",
       "1               0.100000                    0.8              -0.304167   \n",
       "\n",
       "   min_negative_polarity  max_negative_polarity  title_subjectivity  \\\n",
       "0                   -0.4                  -0.15            0.571429   \n",
       "1                   -0.7                  -0.05            0.000000   \n",
       "\n",
       "   title_sentiment_polarity  abs_title_subjectivity  \\\n",
       "0                  0.357143                0.071429   \n",
       "1                  0.000000                0.500000   \n",
       "\n",
       "   abs_title_sentiment_polarity  shares  \n",
       "0                      0.357143    5100  \n",
       "1                      0.000000    3100  \n",
       "\n",
       "[2 rows x 61 columns]"
      ]
     },
     "execution_count": 40,
     "metadata": {},
     "output_type": "execute_result"
    }
   ],
   "source": [
    "datatrain = pd.read_csv(f'{path}train.csv')\n",
    "datatrain.head(2)"
   ]
  },
  {
   "cell_type": "code",
   "execution_count": 41,
   "metadata": {
    "hidden": true
   },
   "outputs": [
    {
     "data": {
      "text/plain": [
       "(0, 0)"
      ]
     },
     "execution_count": 41,
     "metadata": {},
     "output_type": "execute_result"
    }
   ],
   "source": [
    "datatrain.duplicated(keep=False).sum(),datatrain.isnull().sum().sum()"
   ]
  },
  {
   "cell_type": "code",
   "execution_count": 42,
   "metadata": {
    "hidden": true
   },
   "outputs": [],
   "source": [
    "datatest = pd.read_csv(f'{path}test.csv')\n",
    "test_target = pd.read_csv(f'{path}test_target.csv')"
   ]
  },
  {
   "cell_type": "code",
   "execution_count": 43,
   "metadata": {
    "hidden": true
   },
   "outputs": [],
   "source": [
    "datatest['shares'] = test_target.shares.values"
   ]
  },
  {
   "cell_type": "code",
   "execution_count": 44,
   "metadata": {
    "hidden": true
   },
   "outputs": [],
   "source": [
    "del test_target"
   ]
  },
  {
   "cell_type": "code",
   "execution_count": 45,
   "metadata": {
    "hidden": true
   },
   "outputs": [
    {
     "data": {
      "text/plain": [
       "(0, 0)"
      ]
     },
     "execution_count": 45,
     "metadata": {},
     "output_type": "execute_result"
    }
   ],
   "source": [
    "datatest.duplicated(keep=False).sum(),datatest.isnull().sum().sum()"
   ]
  },
  {
   "cell_type": "code",
   "execution_count": 46,
   "metadata": {
    "hidden": true
   },
   "outputs": [],
   "source": [
    "predictors = [x for x in datatrain.columns if x not in ['shares','url','timedelta']]\n",
    "Target= 'shares'"
   ]
  },
  {
   "cell_type": "code",
   "execution_count": 47,
   "metadata": {
    "hidden": true
   },
   "outputs": [],
   "source": [
    "pred_n = [x for x in predictors if x.startswith('n_')]; pred_n.append('average_token_length');\n",
    "pred_num = [x for x in predictors if x.startswith('num_')]\n",
    "pred_data = [x for x in predictors if x.startswith('data_')]\n",
    "pred_kw = [x for x in predictors if x.startswith('kw_')]\n",
    "pred_self = [x for x in predictors if x.startswith('self_')]\n",
    "pred_weekday = [x for x in predictors if x.startswith('weekday_')];pred_weekday.append('is_weekend');\n",
    "pred_LDA = [x for x in predictors if x.startswith('LDA_')]\n",
    "pred_global = [x for x in predictors if x.startswith('global_')]\n",
    "pred_rate = [x for x in predictors if x.startswith('rate_')]\n",
    "pred_pol = ['avg_positive_polarity', 'min_positive_polarity',\n",
    "            'max_positive_polarity', 'avg_negative_polarity',\n",
    "            'min_negative_polarity', 'max_negative_polarity', \n",
    "            'title_subjectivity','title_sentiment_polarity',\n",
    "            'abs_title_subjectivity','abs_title_sentiment_polarity',]"
   ]
  },
  {
   "cell_type": "code",
   "execution_count": 48,
   "metadata": {
    "hidden": true
   },
   "outputs": [
    {
     "data": {
      "text/plain": [
       "Index(['url', 'timedelta', 'n_tokens_title', 'n_tokens_content',\n",
       "       'n_unique_tokens', 'n_non_stop_words', 'n_non_stop_unique_tokens',\n",
       "       'num_hrefs', 'num_self_hrefs', 'num_imgs', 'num_videos',\n",
       "       'average_token_length', 'num_keywords', 'data_channel_is_lifestyle',\n",
       "       'data_channel_is_entertainment', 'data_channel_is_bus',\n",
       "       'data_channel_is_socmed', 'data_channel_is_tech',\n",
       "       'data_channel_is_world', 'kw_min_min', 'kw_max_min', 'kw_avg_min',\n",
       "       'kw_min_max', 'kw_max_max', 'kw_avg_max', 'kw_min_avg', 'kw_max_avg',\n",
       "       'kw_avg_avg', 'self_reference_min_shares', 'self_reference_max_shares',\n",
       "       'self_reference_avg_sharess', 'weekday_is_monday', 'weekday_is_tuesday',\n",
       "       'weekday_is_wednesday', 'weekday_is_thursday', 'weekday_is_friday',\n",
       "       'weekday_is_saturday', 'weekday_is_sunday', 'is_weekend', 'LDA_00',\n",
       "       'LDA_01', 'LDA_02', 'LDA_03', 'LDA_04', 'global_subjectivity',\n",
       "       'global_sentiment_polarity', 'global_rate_positive_words',\n",
       "       'global_rate_negative_words', 'rate_positive_words',\n",
       "       'rate_negative_words', 'avg_positive_polarity', 'min_positive_polarity',\n",
       "       'max_positive_polarity', 'avg_negative_polarity',\n",
       "       'min_negative_polarity', 'max_negative_polarity', 'title_subjectivity',\n",
       "       'title_sentiment_polarity', 'abs_title_subjectivity',\n",
       "       'abs_title_sentiment_polarity', 'shares'],\n",
       "      dtype='object')"
      ]
     },
     "execution_count": 48,
     "metadata": {},
     "output_type": "execute_result"
    }
   ],
   "source": [
    "datatrain.columns"
   ]
  },
  {
   "cell_type": "code",
   "execution_count": 49,
   "metadata": {
    "hidden": true
   },
   "outputs": [],
   "source": [
    "preds = [pred_n, pred_num, pred_data, pred_kw, pred_self,\n",
    "         pred_weekday, pred_LDA, pred_global, pred_rate, pred_pol]"
   ]
  },
  {
   "cell_type": "code",
   "execution_count": 50,
   "metadata": {
    "hidden": true
   },
   "outputs": [
    {
     "data": {
      "text/plain": [
       "(58, 58)"
      ]
     },
     "execution_count": 50,
     "metadata": {},
     "output_type": "execute_result"
    }
   ],
   "source": [
    "len(pred_n+ pred_num+pred_data+pred_kw+pred_self+\n",
    "    pred_weekday + pred_LDA + pred_global+pred_rate+pred_pol ),len(predictors)\n"
   ]
  },
  {
   "cell_type": "markdown",
   "metadata": {
    "heading_collapsed": true
   },
   "source": [
    "# Feature Scaling"
   ]
  },
  {
   "cell_type": "code",
   "execution_count": 51,
   "metadata": {
    "hidden": true
   },
   "outputs": [
    {
     "data": {
      "text/plain": [
       "58"
      ]
     },
     "execution_count": 51,
     "metadata": {},
     "output_type": "execute_result"
    }
   ],
   "source": [
    "len(predictors)"
   ]
  },
  {
   "cell_type": "code",
   "execution_count": 358,
   "metadata": {
    "hidden": true
   },
   "outputs": [],
   "source": [
    "#scaler = StandardScaler()\n",
    "scaler = MinMaxScaler()\n"
   ]
  },
  {
   "cell_type": "code",
   "execution_count": 359,
   "metadata": {
    "hidden": true
   },
   "outputs": [],
   "source": [
    "scaled_tr =  scaler.fit_transform(datatrain[predictors])\n",
    "scaled_test =  scaler.transform(datatest[predictors].values)"
   ]
  },
  {
   "cell_type": "markdown",
   "metadata": {
    "heading_collapsed": true
   },
   "source": [
    "# Target Scaling and Analysis"
   ]
  },
  {
   "cell_type": "code",
   "execution_count": 56,
   "metadata": {
    "hidden": true
   },
   "outputs": [],
   "source": [
    "#test_scaler = StandardScaler()\n",
    "test_scaler = MinMaxScaler()\n",
    "#test_scaler = RobustScaler()\n",
    "\n"
   ]
  },
  {
   "cell_type": "code",
   "execution_count": 57,
   "metadata": {
    "hidden": true
   },
   "outputs": [
    {
     "data": {
      "text/plain": [
       "count     31715.000000\n",
       "mean       3364.264386\n",
       "std       10742.884480\n",
       "min           1.000000\n",
       "25%         945.000000\n",
       "50%        1400.000000\n",
       "75%        2800.000000\n",
       "max      690400.000000\n",
       "Name: shares, dtype: float64"
      ]
     },
     "execution_count": 57,
     "metadata": {},
     "output_type": "execute_result"
    }
   ],
   "source": [
    "datatrain[Target].describe()"
   ]
  },
  {
   "cell_type": "code",
   "execution_count": 58,
   "metadata": {
    "hidden": true
   },
   "outputs": [
    {
     "data": {
      "image/png": "[encoded data removed]",
      "text/plain": [
       "<matplotlib.figure.Figure at 0x1a0a703908>"
      ]
     },
     "metadata": {},
     "output_type": "display_data"
    }
   ],
   "source": [
    "plt.figure(figsize=(12,6))\n",
    "sns.distplot(datatrain[Target],hist=True,kde=True)\n",
    "plt.xscale('log')\n",
    "plt.title(\"Shares Distribution\")\n",
    "plt.show()"
   ]
  },
  {
   "cell_type": "code",
   "execution_count": 59,
   "metadata": {
    "hidden": true
   },
   "outputs": [
    {
     "data": {
      "image/png": "[encoded data removed]",
      "text/plain": [
       "<matplotlib.figure.Figure at 0x1a0a4935f8>"
      ]
     },
     "metadata": {},
     "output_type": "display_data"
    }
   ],
   "source": [
    "plt.figure(figsize=(12,6))\n",
    "sns.distplot(datatrain[(datatrain[Target]<=1e4)][Target],hist=True,kde=True)\n",
    "plt.xscale('log')\n",
    "plt.title(\"Shares Distribution\")\n",
    "plt.show()"
   ]
  },
  {
   "cell_type": "code",
   "execution_count": 60,
   "metadata": {
    "hidden": true
   },
   "outputs": [
    {
     "data": {
      "image/png": "[encoded data removed]",
      "text/plain": [
       "<matplotlib.figure.Figure at 0x1a0a760470>"
      ]
     },
     "metadata": {},
     "output_type": "display_data"
    }
   ],
   "source": [
    "plt.figure(figsize=(12,6))\n",
    "sns.distplot(datatrain[(datatrain[Target]>=1e4)][Target],hist=True,kde=True)\n",
    "plt.xscale('log')\n",
    "plt.title(\"Shares Distribution\")\n",
    "plt.show()"
   ]
  },
  {
   "cell_type": "markdown",
   "metadata": {
    "heading_collapsed": true
   },
   "source": [
    "# Linear Regression "
   ]
  },
  {
   "cell_type": "code",
   "execution_count": 367,
   "metadata": {
    "hidden": true
   },
   "outputs": [
    {
     "data": {
      "text/plain": [
       "((31715, 58), (7929, 58))"
      ]
     },
     "execution_count": 367,
     "metadata": {},
     "output_type": "execute_result"
    }
   ],
   "source": [
    "xval= scaled_test.copy()\n",
    "xtrain = scaled_tr.copy()\n",
    "xtrain.shape,xval.shape"
   ]
  },
  {
   "cell_type": "code",
   "execution_count": 361,
   "metadata": {
    "hidden": true
   },
   "outputs": [
    {
     "name": "stderr",
     "output_type": "stream",
     "text": [
      "/anaconda/lib/python3.6/site-packages/sklearn/utils/validation.py:475: DataConversionWarning: Data with input dtype int64 was converted to float64 by MinMaxScaler.\n",
      "  warnings.warn(msg, DataConversionWarning)\n"
     ]
    },
    {
     "data": {
      "text/plain": [
       "((31715, 1), (7929, 1))"
      ]
     },
     "execution_count": 361,
     "metadata": {},
     "output_type": "execute_result"
    }
   ],
   "source": [
    "ytrain = test_scaler.fit_transform(datatrain[Target].values.reshape(-1,1))\n",
    "yval =  test_scaler.transform(datatest[Target].values.reshape(-1,1))\n",
    "\n",
    "ytrain.shape,yval.shape"
   ]
  },
  {
   "cell_type": "markdown",
   "metadata": {
    "hidden": true
   },
   "source": [
    "$$ \\mathbf{\\hat{y}} = \\mathbf{x} \\mathbf{w^T} $$"
   ]
  },
  {
   "cell_type": "code",
   "execution_count": 244,
   "metadata": {
    "hidden": true
   },
   "outputs": [],
   "source": [
    "LR = LinearRegression(len(predictors),1)"
   ]
  },
  {
   "cell_type": "code",
   "execution_count": 245,
   "metadata": {
    "hidden": true
   },
   "outputs": [
    {
     "data": {
      "text/plain": [
       "(31715, 1)"
      ]
     },
     "execution_count": 245,
     "metadata": {},
     "output_type": "execute_result"
    }
   ],
   "source": [
    "# Testing a predict\n",
    "\n",
    "LR.forward(xtrain).shape"
   ]
  },
  {
   "cell_type": "code",
   "execution_count": 168,
   "metadata": {
    "hidden": true
   },
   "outputs": [
    {
     "data": {
      "text/plain": [
       "(1, 58)"
      ]
     },
     "execution_count": 168,
     "metadata": {},
     "output_type": "execute_result"
    }
   ],
   "source": [
    "# Natural state of weights for strategies comparison\n",
    "\n",
    "nat_weights = LR.weight\n",
    "nat_weights.shape"
   ]
  },
  {
   "cell_type": "markdown",
   "metadata": {
    "heading_collapsed": true,
    "hidden": true
   },
   "source": [
    "## Training the model "
   ]
  },
  {
   "cell_type": "markdown",
   "metadata": {
    "hidden": true
   },
   "source": [
    "Loss function (MSE) with L2 regularization :\n",
    "$$ J(\\hat{y_i},y_i) = \\frac{1}{M} \\sum_{i=0}^{M-1} (\\hat{y_i} - y_i)^2 +  \\lambda\\sum_{i=0}^{k}w_{i}^2$$"
   ]
  },
  {
   "cell_type": "markdown",
   "metadata": {
    "hidden": true
   },
   "source": [
    "Gradient:\n",
    "    $$  \\mathbf{\\nabla{J_w}} = \\frac{2}{M}\\mathbf{x^T}(\\mathbf{x w^T} -\\mathbf{y}) +2\\lambda w^T $$"
   ]
  },
  {
   "cell_type": "markdown",
   "metadata": {
    "hidden": true
   },
   "source": [
    "Updating parameters via gradient descent with weight decay ( L2 Regularization ):\n",
    "    $$ \\mathbf{w} = \\mathbf{w} −\\eta (\\mathbf{\\nabla J_w}^T)$$"
   ]
  },
  {
   "cell_type": "code",
   "execution_count": 248,
   "metadata": {
    "hidden": true
   },
   "outputs": [],
   "source": [
    "LR.weight = nat_weights # Restoring natural state\n",
    "\n",
    "hist= LR.fit(xtrain,ytrain,xval,yval,\n",
    "             epochs=1500,learning_rate=1e-1,alpha=1e-5,\n",
    "             patience=10,verbose = 0)"
   ]
  },
  {
   "cell_type": "code",
   "execution_count": 249,
   "metadata": {
    "hidden": true
   },
   "outputs": [
    {
     "data": {
      "text/plain": [
       "(0.00047210244919674351, 0.021727918657725675)"
      ]
     },
     "execution_count": 249,
     "metadata": {},
     "output_type": "execute_result"
    }
   ],
   "source": [
    "hist[\"bestloss\"],np.sqrt(hist[\"bestloss\"])"
   ]
  },
  {
   "cell_type": "markdown",
   "metadata": {
    "hidden": true
   },
   "source": [
    "Comparing with sklearning Linear Regression"
   ]
  },
  {
   "cell_type": "code",
   "execution_count": 250,
   "metadata": {
    "hidden": true
   },
   "outputs": [
    {
     "data": {
      "text/plain": [
       "(0.00048080157220002211, 0.021927187968365257)"
      ]
     },
     "execution_count": 250,
     "metadata": {},
     "output_type": "execute_result"
    }
   ],
   "source": [
    "lr = LR_SK()\n",
    "lr.fit(xtrain,ytrain)\n",
    "ypred = lr.predict(xval)\n",
    "mse(yval,ypred),rmse(yval,ypred)"
   ]
  },
  {
   "cell_type": "code",
   "execution_count": 225,
   "metadata": {
    "hidden": true
   },
   "outputs": [
    {
     "data": {
      "image/png": "[encoded data removed]",
      "text/plain": [
       "<matplotlib.figure.Figure at 0x1a0a4fc390>"
      ]
     },
     "metadata": {},
     "output_type": "display_data"
    }
   ],
   "source": [
    "fig = plt.figure(figsize=(15,6))\n",
    "plt.plot(hist[\"loss\"],label=\"Train\") # mostrando log para amplificar valores baixos\n",
    "plt.plot(hist[\"val_loss\"],label=\"Val\")\n",
    "#plt.ylim(0.6,1.2) # escala máximo y no gráfico \n",
    "plt.title('Mean Sum Error Linear Regression')\n",
    "plt.ylabel(\"Loss\")\n",
    "#plt.semilogx()\n",
    "#plt.semilogy()\n",
    "plt.xlabel(\"Epochs\")\n",
    "plt.legend()\n",
    "plt.grid(True)\n",
    "\n",
    "plt.show()"
   ]
  },
  {
   "cell_type": "code",
   "execution_count": 230,
   "metadata": {
    "hidden": true
   },
   "outputs": [
    {
     "name": "stdout",
     "output_type": "stream",
     "text": [
      "Fold 1 out of 5\n",
      "Fold 2 out of 5\n",
      "Fold 3 out of 5\n",
      "Patience 0 in epoch 688\n",
      "Fold 4 out of 5\n",
      "Fold 5 out of 5\n",
      "\n",
      "Overall MSE: [ 0.00047666  0.00018821  0.0003617   0.04514132  0.00010292]\n",
      "Mean:0.009254163494235362\n",
      "StD:0.017944051116652312\n"
     ]
    }
   ],
   "source": [
    "hist = cross_validate(nat_weights,xtrain,ytrain,lr=1e-1,l2=1e-6)"
   ]
  },
  {
   "cell_type": "markdown",
   "metadata": {
    "heading_collapsed": true,
    "hidden": true
   },
   "source": [
    "## Feature Selection"
   ]
  },
  {
   "cell_type": "markdown",
   "metadata": {
    "hidden": true
   },
   "source": [
    "best training loss : 0.021727918657725675"
   ]
  },
  {
   "cell_type": "code",
   "execution_count": 252,
   "metadata": {
    "hidden": true
   },
   "outputs": [
    {
     "data": {
      "text/plain": [
       "[0.021455122313068377,\n",
       " 0.021427690601613789,\n",
       " 0.021871967042433889,\n",
       " 0.02142732876498343,\n",
       " 0.021640047193601131,\n",
       " 0.021673931597540125,\n",
       " 0.02181757949355044,\n",
       " 0.021405971851674248,\n",
       " 0.021297890717915938,\n",
       " 0.021322201234091395]"
      ]
     },
     "execution_count": 252,
     "metadata": {},
     "output_type": "execute_result"
    }
   ],
   "source": [
    "losses = []\n",
    "\n",
    "for pred in preds: \n",
    "    n_predictors = list(set(predictors) - set(pred))\n",
    "\n",
    "    xtrain = scaler.fit_transform(datatrain[n_predictors].values)\n",
    "    xval= scaler.transform(datatest[n_predictors].values)\n",
    "    \n",
    "    LR = LinearRegression(len(n_predictors),1)\n",
    "    \n",
    "    hist= LR.fit(xtrain,ytrain,xval,yval,\n",
    "             epochs=2000,learning_rate=1e-1,alpha=1e-5,\n",
    "             patience=10,verbose = 0)\n",
    "    losses.append(np.sqrt(hist[\"bestloss\"])) # RMSE\n",
    "losses    "
   ]
  },
  {
   "cell_type": "code",
   "execution_count": 254,
   "metadata": {
    "hidden": true
   },
   "outputs": [],
   "source": [
    "n_predictors = list(set(predictors) - set(preds[1])- set(preds[3])- set(preds[8])- set(preds[9]))"
   ]
  },
  {
   "cell_type": "code",
   "execution_count": 255,
   "metadata": {
    "hidden": true
   },
   "outputs": [
    {
     "data": {
      "text/plain": [
       "0.021276062819534126"
      ]
     },
     "execution_count": 255,
     "metadata": {},
     "output_type": "execute_result"
    }
   ],
   "source": [
    "xtrain = scaler.fit_transform(datatrain[n_predictors].values)\n",
    "xval= scaler.transform(datatest[n_predictors].values)\n",
    "\n",
    "LR = LinearRegression(len(n_predictors),1)\n",
    "\n",
    "hist= LR.fit(xtrain,ytrain,xval,yval,\n",
    "         epochs=2000,learning_rate=1e-1,alpha=1e-5,\n",
    "         patience=10,verbose = 0)\n",
    "\n",
    "np.sqrt(hist[\"bestloss\"])"
   ]
  },
  {
   "cell_type": "code",
   "execution_count": 259,
   "metadata": {
    "hidden": true
   },
   "outputs": [
    {
     "data": {
      "text/plain": [
       "(32, 10, (1, 32))"
      ]
     },
     "execution_count": 259,
     "metadata": {},
     "output_type": "execute_result"
    }
   ],
   "source": [
    "len(n_predictors),len(preds)"
   ]
  },
  {
   "cell_type": "code",
   "execution_count": 258,
   "metadata": {
    "hidden": true
   },
   "outputs": [
    {
     "data": {
      "text/plain": [
       "97.920390602940316"
      ]
     },
     "execution_count": 258,
     "metadata": {},
     "output_type": "execute_result"
    }
   ],
   "source": [
    "(best_loss/0.021727918657725675)*100"
   ]
  },
  {
   "cell_type": "code",
   "execution_count": 260,
   "metadata": {
    "hidden": true
   },
   "outputs": [
    {
     "data": {
      "text/plain": [
       "6"
      ]
     },
     "execution_count": 260,
     "metadata": {},
     "output_type": "execute_result"
    }
   ],
   "source": [
    "npreds = [preds[0], preds[2], preds[4] , preds[5] , preds[6] , preds[7]]\n",
    "len(npreds)"
   ]
  },
  {
   "cell_type": "code",
   "execution_count": 262,
   "metadata": {
    "hidden": true
   },
   "outputs": [
    {
     "data": {
      "text/plain": [
       "[0.021261102750286313,\n",
       " 0.021124846970331693,\n",
       " 0.021250356272246168,\n",
       " 0.021242905624663883,\n",
       " 0.021398659971757182,\n",
       " 0.021119670784485612]"
      ]
     },
     "execution_count": 262,
     "metadata": {},
     "output_type": "execute_result"
    }
   ],
   "source": [
    "losses = []\n",
    "\n",
    "for pred in npreds: \n",
    "    tmp_pr = list(set(n_predictors) - set(pred))\n",
    "\n",
    "    xtrain = scaler.fit_transform(datatrain[tmp_pr].values)\n",
    "    xval= scaler.transform(datatest[tmp_pr].values)\n",
    "    \n",
    "    LR = LinearRegression(len(tmp_pr),1)\n",
    "    \n",
    "    hist= LR.fit(xtrain,ytrain,xval,yval,\n",
    "             epochs=2000,learning_rate=1e-1,alpha=1e-5,\n",
    "             patience=10,verbose = 0)\n",
    "    losses.append(np.sqrt(hist[\"bestloss\"]))\n",
    "losses    "
   ]
  },
  {
   "cell_type": "code",
   "execution_count": 264,
   "metadata": {
    "hidden": true
   },
   "outputs": [
    {
     "data": {
      "text/plain": [
       "['global_subjectivity',\n",
       " 'global_sentiment_polarity',\n",
       " 'global_rate_positive_words',\n",
       " 'global_rate_negative_words']"
      ]
     },
     "execution_count": 264,
     "metadata": {},
     "output_type": "execute_result"
    }
   ],
   "source": [
    "npreds[-1]"
   ]
  },
  {
   "cell_type": "code",
   "execution_count": 266,
   "metadata": {
    "hidden": true
   },
   "outputs": [],
   "source": [
    "n1_predictors = list(set(n_predictors) - set(npreds[0])- set(preds[2])- set(preds[3])- set(preds[4])- set(preds[5]))"
   ]
  },
  {
   "cell_type": "code",
   "execution_count": 307,
   "metadata": {
    "hidden": true
   },
   "outputs": [
    {
     "data": {
      "text/plain": [
       "0.021133670726454567"
      ]
     },
     "execution_count": 307,
     "metadata": {},
     "output_type": "execute_result"
    }
   ],
   "source": [
    "xtrain = scaler.fit_transform(datatrain[n1_predictors].values)\n",
    "xval= scaler.transform(datatest[n1_predictors].values)\n",
    "\n",
    "LR = LinearRegression(len(n1_predictors),1)\n",
    "\n",
    "hist= LR.fit(xtrain,ytrain,xval,yval,\n",
    "         epochs=5000,learning_rate=1e-1,alpha=1e-5,\n",
    "         patience=10,verbose = 0)\n",
    "\n",
    "np.sqrt(hist[\"bestloss\"])"
   ]
  },
  {
   "cell_type": "code",
   "execution_count": 308,
   "metadata": {
    "hidden": true
   },
   "outputs": [
    {
     "data": {
      "text/plain": [
       "97.265048987746397"
      ]
     },
     "execution_count": 308,
     "metadata": {},
     "output_type": "execute_result"
    }
   ],
   "source": [
    "(np.sqrt(hist[\"bestloss\"])/0.021727918657725675)*100"
   ]
  },
  {
   "cell_type": "code",
   "execution_count": 309,
   "metadata": {
    "hidden": true
   },
   "outputs": [
    {
     "data": {
      "text/plain": [
       "(94.60489754588707, 0.00044663203837420272)"
      ]
     },
     "execution_count": 309,
     "metadata": {},
     "output_type": "execute_result"
    }
   ],
   "source": [
    "(hist[\"bestloss\"]/0.00047210244919674351)*100,hist[\"bestloss\"]"
   ]
  },
  {
   "cell_type": "code",
   "execution_count": 310,
   "metadata": {
    "hidden": true
   },
   "outputs": [
    {
     "data": {
      "text/plain": [
       "(58, 9)"
      ]
     },
     "execution_count": 310,
     "metadata": {},
     "output_type": "execute_result"
    }
   ],
   "source": [
    "len(predictors),len(n1_predictors)"
   ]
  },
  {
   "cell_type": "code",
   "execution_count": 284,
   "metadata": {
    "hidden": true
   },
   "outputs": [
    {
     "data": {
      "text/plain": [
       "['LDA_03',\n",
       " 'global_sentiment_polarity',\n",
       " 'LDA_02',\n",
       " 'LDA_04',\n",
       " 'global_rate_positive_words',\n",
       " 'global_rate_negative_words',\n",
       " 'LDA_00',\n",
       " 'LDA_01',\n",
       " 'global_subjectivity']"
      ]
     },
     "execution_count": 284,
     "metadata": {},
     "output_type": "execute_result"
    }
   ],
   "source": [
    "n1_predictors"
   ]
  },
  {
   "cell_type": "code",
   "execution_count": 312,
   "metadata": {
    "hidden": true
   },
   "outputs": [
    {
     "data": {
      "text/plain": [
       "(1, 9)"
      ]
     },
     "execution_count": 312,
     "metadata": {},
     "output_type": "execute_result"
    }
   ],
   "source": [
    "best_loss = hist[\"bestloss\"];best_weights = hist[\"best_weights\"]\n",
    "best_weights.shape"
   ]
  },
  {
   "cell_type": "markdown",
   "metadata": {
    "heading_collapsed": true,
    "hidden": true
   },
   "source": [
    "## Non linear transformations "
   ]
  },
  {
   "cell_type": "code",
   "execution_count": 285,
   "metadata": {
    "hidden": true
   },
   "outputs": [],
   "source": [
    "predictors_sqr = [x +'2' for x in n1_predictors]\n",
    "predictors_cub = [x +'3' for x in n1_predictors]"
   ]
  },
  {
   "cell_type": "code",
   "execution_count": 286,
   "metadata": {
    "hidden": true
   },
   "outputs": [],
   "source": [
    "datatrain[predictors_sqr] = np.square(datatrain[n1_predictors])\n",
    "datatrain[predictors_cub] = np.power(datatrain[n1_predictors],3)"
   ]
  },
  {
   "cell_type": "code",
   "execution_count": 288,
   "metadata": {
    "hidden": true
   },
   "outputs": [],
   "source": [
    "datatest[predictors_sqr] = np.square(datatest[n1_predictors])\n",
    "datatest[predictors_cub] = np.power(datatest[n1_predictors],3)"
   ]
  },
  {
   "cell_type": "code",
   "execution_count": 318,
   "metadata": {
    "hidden": true
   },
   "outputs": [
    {
     "data": {
      "text/plain": [
       "27"
      ]
     },
     "execution_count": 318,
     "metadata": {},
     "output_type": "execute_result"
    }
   ],
   "source": [
    "non_lin_pred = n1_predictors + predictors_sqr + predictors_cub\n",
    "len(non_lin_pred)"
   ]
  },
  {
   "cell_type": "code",
   "execution_count": 319,
   "metadata": {
    "hidden": true
   },
   "outputs": [
    {
     "data": {
      "text/plain": [
       "(0.021363056094707226, 0.00045638016570560759)"
      ]
     },
     "execution_count": 319,
     "metadata": {},
     "output_type": "execute_result"
    }
   ],
   "source": [
    "xtrain = scaler.fit_transform(datatrain[non_lin_pred].values)\n",
    "xval= scaler.transform(datatest[non_lin_pred].values)\n",
    "\n",
    "LR = LinearRegression(len(non_lin_pred),1)\n",
    "\n",
    "hist= LR.fit(xtrain,ytrain,xval,yval,\n",
    "         epochs=3000,learning_rate=1e-1,alpha=1e-5,\n",
    "         patience=10,verbose = 0)\n",
    "\n",
    "np.sqrt(hist[\"bestloss\"]),hist[\"bestloss\"]"
   ]
  },
  {
   "cell_type": "code",
   "execution_count": 320,
   "metadata": {
    "hidden": true
   },
   "outputs": [
    {
     "data": {
      "text/plain": [
       "True"
      ]
     },
     "execution_count": 320,
     "metadata": {},
     "output_type": "execute_result"
    }
   ],
   "source": [
    "np.sqrt(best_loss) < np.sqrt(hist[\"bestloss\"])"
   ]
  },
  {
   "cell_type": "markdown",
   "metadata": {
    "hidden": true
   },
   "source": [
    "No improvement found"
   ]
  },
  {
   "cell_type": "code",
   "execution_count": 327,
   "metadata": {
    "hidden": true
   },
   "outputs": [
    {
     "data": {
      "text/plain": [
       "18"
      ]
     },
     "execution_count": 327,
     "metadata": {},
     "output_type": "execute_result"
    }
   ],
   "source": [
    "non_lin_pred = n1_predictors + predictors_cub \n",
    "len(non_lin_pred)"
   ]
  },
  {
   "cell_type": "code",
   "execution_count": 329,
   "metadata": {
    "hidden": true
   },
   "outputs": [
    {
     "data": {
      "text/plain": [
       "(0.021235837568414673, 0.00045096079723209206)"
      ]
     },
     "execution_count": 329,
     "metadata": {},
     "output_type": "execute_result"
    }
   ],
   "source": [
    "xtrain = scaler.fit_transform(datatrain[non_lin_pred].values)\n",
    "xval= scaler.transform(datatest[non_lin_pred].values)\n",
    "\n",
    "LR = LinearRegression(len(non_lin_pred),1)\n",
    "\n",
    "hist= LR.fit(xtrain,ytrain,xval,yval,\n",
    "         epochs=3000,learning_rate=1e-1,alpha=1e-5,\n",
    "         patience=10,verbose = 0)\n",
    "\n",
    "np.sqrt(hist[\"bestloss\"]),hist[\"bestloss\"]"
   ]
  },
  {
   "cell_type": "code",
   "execution_count": 330,
   "metadata": {
    "hidden": true
   },
   "outputs": [
    {
     "data": {
      "text/plain": [
       "True"
      ]
     },
     "execution_count": 330,
     "metadata": {},
     "output_type": "execute_result"
    }
   ],
   "source": [
    "best_loss < np.sqrt(hist[\"bestloss\"])"
   ]
  },
  {
   "cell_type": "markdown",
   "metadata": {
    "hidden": true
   },
   "source": [
    "No improvement found"
   ]
  },
  {
   "cell_type": "markdown",
   "metadata": {
    "heading_collapsed": true,
    "hidden": true
   },
   "source": [
    "## Separating popular and unpopular articles "
   ]
  },
  {
   "cell_type": "code",
   "execution_count": 313,
   "metadata": {
    "hidden": true
   },
   "outputs": [
    {
     "data": {
      "text/plain": [
       "count     31715.000000\n",
       "mean       3364.264386\n",
       "std       10742.884480\n",
       "min           1.000000\n",
       "25%         945.000000\n",
       "50%        1400.000000\n",
       "75%        2800.000000\n",
       "max      690400.000000\n",
       "Name: shares, dtype: float64"
      ]
     },
     "execution_count": 313,
     "metadata": {},
     "output_type": "execute_result"
    }
   ],
   "source": [
    "datatrain[Target].describe()"
   ]
  },
  {
   "cell_type": "code",
   "execution_count": 334,
   "metadata": {
    "hidden": true
   },
   "outputs": [
    {
     "data": {
      "image/png": "[encoded data removed]",
      "text/plain": [
       "<matplotlib.figure.Figure at 0x1a0bcda1d0>"
      ]
     },
     "metadata": {},
     "output_type": "display_data"
    }
   ],
   "source": [
    "plt.figure(figsize=(12,6))\n",
    "sns.distplot(datatrain[(datatrain[Target]<=1e4)][Target],hist=True,kde=True)\n",
    "plt.xscale('log')\n",
    "plt.title(\"Shares Distribution\")\n",
    "plt.show()"
   ]
  },
  {
   "cell_type": "code",
   "execution_count": 314,
   "metadata": {
    "hidden": true
   },
   "outputs": [
    {
     "data": {
      "text/plain": [
       "(9, 58)"
      ]
     },
     "execution_count": 314,
     "metadata": {},
     "output_type": "execute_result"
    }
   ],
   "source": [
    "len(n1_predictors),len(predictors)"
   ]
  },
  {
   "cell_type": "code",
   "execution_count": 347,
   "metadata": {
    "hidden": true
   },
   "outputs": [
    {
     "data": {
      "text/plain": [
       "((29984, 9), (7475, 9))"
      ]
     },
     "execution_count": 347,
     "metadata": {},
     "output_type": "execute_result"
    }
   ],
   "source": [
    "xtrain = scaler.fit_transform(datatrain[(datatrain[Target]<=1e4)][n1_predictors].values)\n",
    "xval= scaler.transform(datatest[(datatest[Target]<=1e4)][n1_predictors].values)\n",
    "\n",
    "xtrain.shape,xval.shape"
   ]
  },
  {
   "cell_type": "code",
   "execution_count": 348,
   "metadata": {
    "hidden": true
   },
   "outputs": [
    {
     "name": "stderr",
     "output_type": "stream",
     "text": [
      "/anaconda/lib/python3.6/site-packages/sklearn/utils/validation.py:475: DataConversionWarning: Data with input dtype int64 was converted to float64 by MinMaxScaler.\n",
      "  warnings.warn(msg, DataConversionWarning)\n"
     ]
    },
    {
     "data": {
      "text/plain": [
       "((29984, 1), (7475, 1))"
      ]
     },
     "execution_count": 348,
     "metadata": {},
     "output_type": "execute_result"
    }
   ],
   "source": [
    "ytrain = test_scaler.fit_transform(datatrain[(datatrain[Target]<=1e4)][Target].values.reshape(-1,1))\n",
    "yval =  test_scaler.transform(datatest[(datatest[Target]<=1e4)][Target].values.reshape(-1,1))\n",
    "\n",
    "ytrain.shape,yval.shape"
   ]
  },
  {
   "cell_type": "code",
   "execution_count": 350,
   "metadata": {
    "hidden": true
   },
   "outputs": [
    {
     "data": {
      "text/plain": [
       "(0.17209362866866496, 0.029616217028348338)"
      ]
     },
     "execution_count": 350,
     "metadata": {},
     "output_type": "execute_result"
    }
   ],
   "source": [
    "LR = LinearRegression(len(n1_predictors),1)\n",
    "\n",
    "#LR.weight = best_weights\n",
    "\n",
    "hist= LR.fit(xtrain,ytrain,xval,yval,\n",
    "         epochs=3000,learning_rate=1e-1,alpha=1e-5,\n",
    "         patience=10,verbose = 0)\n",
    "\n",
    "np.sqrt(hist[\"bestloss\"]),hist[\"bestloss\"]"
   ]
  },
  {
   "cell_type": "markdown",
   "metadata": {
    "heading_collapsed": true,
    "hidden": true
   },
   "source": [
    "## Evaluating model"
   ]
  },
  {
   "cell_type": "code",
   "execution_count": 353,
   "metadata": {
    "hidden": true
   },
   "outputs": [],
   "source": [
    "xtrain = scaler.fit_transform(datatrain[n1_predictors].values)\n",
    "xval= scaler.transform(datatest[n1_predictors].values)\n",
    "\n",
    "LR = LinearRegression(len(n_predictors),1)"
   ]
  },
  {
   "cell_type": "code",
   "execution_count": 354,
   "metadata": {
    "hidden": true
   },
   "outputs": [
    {
     "data": {
      "text/plain": [
       "(0.00044663203837420272, 0.021133670726454567)"
      ]
     },
     "execution_count": 354,
     "metadata": {},
     "output_type": "execute_result"
    }
   ],
   "source": [
    "# Loading best epoch weights\n",
    "\n",
    "LR.weight = best_weights\n",
    "\n",
    "# Testing result \n",
    "y_pred = LR.forward(xval)\n",
    "\n",
    "mse(y_pred,yval),rmse(y_pred,yval)"
   ]
  },
  {
   "cell_type": "code",
   "execution_count": 355,
   "metadata": {
    "hidden": true
   },
   "outputs": [
    {
     "data": {
      "text/plain": [
       "(0.00081438545608793385, 0.010525015593795293, 0.0015715333567741544)"
      ]
     },
     "execution_count": 355,
     "metadata": {},
     "output_type": "execute_result"
    }
   ],
   "source": [
    "y_pred.min(),y_pred.max(),y_pred.std()"
   ]
  },
  {
   "cell_type": "code",
   "execution_count": 356,
   "metadata": {
    "hidden": true
   },
   "outputs": [
    {
     "data": {
      "text/plain": [
       "(5.7937511496974936e-06, 1.2214661376971865, 0.021202047076748616)"
      ]
     },
     "execution_count": 356,
     "metadata": {},
     "output_type": "execute_result"
    }
   ],
   "source": [
    "yval.min(),yval.max(),yval.std()"
   ]
  },
  {
   "cell_type": "code",
   "execution_count": 357,
   "metadata": {
    "hidden": true
   },
   "outputs": [
    {
     "data": {
      "image/png": "[encoded data removed]",
      "text/plain": [
       "<matplotlib.figure.Figure at 0x1a0eda25c0>"
      ]
     },
     "metadata": {},
     "output_type": "display_data"
    }
   ],
   "source": [
    "n_samples = 20\n",
    "\n",
    "fig = plt.figure(figsize=(16,6))     \n",
    "\n",
    "X= np.arange(0, y_pred.shape[0],1).reshape(-1,1)\n",
    "\n",
    "\n",
    "plt.scatter(X[:n_samples,:],yval[:n_samples,:], c = 'blue',\n",
    "            edgecolors='black',s = 60,alpha = 0.9,linewidths=1, \n",
    "            marker = \"o\", label='Target - True')\n",
    "\n",
    "plt.scatter(X[:n_samples,:],y_pred[:n_samples,:], c = 'red', \n",
    "            edgecolors='black',s = 60,alpha = 0.9,linewidths=1, \n",
    "            marker = \"o\", label='Target - Predicted')\n",
    "\n",
    "\n",
    "plt.xticks(rotation=90)\n",
    "plt.title('Linear Regression Result')\n",
    "plt.xlabel('')\n",
    "plt.ylabel('')\n",
    "#plt.ylim([-25e-6,25e-6])\n",
    "plt.grid('on')\n",
    "plt.legend()\n",
    "plt.show()"
   ]
  }
 ],
 "metadata": {
  "kernelspec": {
   "display_name": "Python 3",
   "language": "python",
   "name": "python3"
  },
  "language_info": {
   "codemirror_mode": {
    "name": "ipython",
    "version": 3
   },
   "file_extension": ".py",
   "mimetype": "text/x-python",
   "name": "python",
   "nbconvert_exporter": "python",
   "pygments_lexer": "ipython3",
   "version": "3.6.4"
  },
  "varInspector": {
   "cols": {
    "lenName": 16,
    "lenType": 16,
    "lenVar": 40
   },
   "kernels_config": {
    "python": {
     "delete_cmd_postfix": "",
     "delete_cmd_prefix": "del ",
     "library": "var_list.py",
     "varRefreshCmd": "print(var_dic_list())"
    },
    "r": {
     "delete_cmd_postfix": ") ",
     "delete_cmd_prefix": "rm(",
     "library": "var_list.r",
     "varRefreshCmd": "cat(var_dic_list()) "
    }
   },
   "types_to_exclude": [
    "module",
    "function",
    "builtin_function_or_method",
    "instance",
    "_Feature"
   ],
   "window_display": false
  }
 },
 "nbformat": 4,
 "nbformat_minor": 2
}
